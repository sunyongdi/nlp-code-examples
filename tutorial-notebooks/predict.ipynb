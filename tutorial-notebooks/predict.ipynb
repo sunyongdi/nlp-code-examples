{
 "cells": [
  {
   "cell_type": "code",
   "execution_count": 6,
   "id": "19f3b79c-a110-49ee-b742-43d51e23c0e3",
   "metadata": {},
   "outputs": [],
   "source": [
    "import sys\n",
    "import torch\n",
    "import pandas as pd\n",
    "\n",
    "from transformers import BertTokenizer\n",
    "\n",
    "sys.path.append('/root/projects/nlp-code-examples')\n",
    "from src.easy_bert.TextClassifiy import models\n",
    "from src.easy_bert.TextClassifiy import tools\n",
    "from src.easy_bert.TextClassifiy import utils\n",
    "\n",
    "model_path = '/root/projects/nlp-code-examples/example/TextClassifiy/checkpoints/2022-07-28_13-08-41/bert_epoch2.pth'"
   ]
  },
  {
   "cell_type": "code",
   "execution_count": 3,
   "id": "d7f66e24-244a-442a-96f8-0a56c2504211",
   "metadata": {},
   "outputs": [],
   "source": [
    "class Config:\n",
    "    bert_path = '/root/pretrained/bert-base-chinese' # \n",
    "    dropout = 0.3\n",
    "    num_hidden = 768\n",
    "    num_classes = 1\n",
    "    max_len = 512\n",
    "    pass\n",
    "\n",
    "cfg = Config()"
   ]
  },
  {
   "cell_type": "code",
   "execution_count": 4,
   "id": "30dda2d5-8892-4599-8ab4-fc17ac4fff2c",
   "metadata": {},
   "outputs": [
    {
     "name": "stderr",
     "output_type": "stream",
     "text": [
      "Some weights of the model checkpoint at /root/pretrained/bert-base-chinese were not used when initializing BertModel: ['cls.predictions.transform.LayerNorm.weight', 'cls.predictions.transform.dense.weight', 'cls.predictions.bias', 'cls.predictions.decoder.weight', 'cls.predictions.transform.dense.bias', 'cls.seq_relationship.weight', 'cls.predictions.transform.LayerNorm.bias', 'cls.seq_relationship.bias']\n",
      "- This IS expected if you are initializing BertModel from the checkpoint of a model trained on another task or with another architecture (e.g. initializing a BertForSequenceClassification model from a BertForPreTraining model).\n",
      "- This IS NOT expected if you are initializing BertModel from the checkpoint of a model that you expect to be exactly identical (initializing a BertForSequenceClassification model from a BertForSequenceClassification model).\n"
     ]
    },
    {
     "data": {
      "text/plain": [
       "<All keys matched successfully>"
      ]
     },
     "execution_count": 4,
     "metadata": {},
     "output_type": "execute_result"
    }
   ],
   "source": [
    "model = models.BERTBaseUncased(cfg)\n",
    "model.load_state_dict(torch.load(model_path, map_location=torch.device('cpu')))"
   ]
  },
  {
   "cell_type": "code",
   "execution_count": 7,
   "id": "d7f54cd5-66fc-4b93-96aa-edbd15e8c4b7",
   "metadata": {},
   "outputs": [],
   "source": [
    "# 数据预处理\n",
    "text = '今天的又被老板骂了'\n",
    "tokenizer = BertTokenizer.from_pretrained(cfg.bert_path)\n",
    "inputs = tokenizer(text, padding='max_length', max_length=cfg.max_len, truncation=True, return_tensors='pt')"
   ]
  },
  {
   "cell_type": "code",
   "execution_count": 8,
   "id": "5cda1a76-4043-4b4f-b5ef-cb674cac584f",
   "metadata": {},
   "outputs": [],
   "source": [
    "# 模型预测\n",
    "y_pred = model(inputs)"
   ]
  },
  {
   "cell_type": "code",
   "execution_count": 14,
   "id": "58351890-534c-4957-9e5c-6fee2cf370a9",
   "metadata": {},
   "outputs": [
    {
     "data": {
      "text/plain": [
       "'negative'"
      ]
     },
     "execution_count": 14,
     "metadata": {},
     "output_type": "execute_result"
    }
   ],
   "source": [
    "# 结果转化\n",
    "out = torch.sigmoid(y_pred).cpu().detach().numpy() >= 0.5\n",
    "'positive' if out.tolist()[0][0] else 'negative'"
   ]
  }
 ],
 "metadata": {
  "kernelspec": {
   "display_name": "PyTorch 1.8",
   "language": "python",
   "name": "torch1.8"
  },
  "language_info": {
   "codemirror_mode": {
    "name": "ipython",
    "version": 3
   },
   "file_extension": ".py",
   "mimetype": "text/x-python",
   "name": "python",
   "nbconvert_exporter": "python",
   "pygments_lexer": "ipython3",
   "version": "3.9.7"
  }
 },
 "nbformat": 4,
 "nbformat_minor": 5
}

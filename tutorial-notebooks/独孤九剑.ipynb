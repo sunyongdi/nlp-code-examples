{
 "cells": [
  {
   "cell_type": "markdown",
   "id": "968a1c6b-9633-464b-814e-a93b06f5390b",
   "metadata": {},
   "source": [
    "# pytorch 使用笔记"
   ]
  },
  {
   "cell_type": "code",
   "execution_count": 19,
   "id": "8ff35c7b-e995-47aa-9418-f775e5b34403",
   "metadata": {},
   "outputs": [
    {
     "name": "stdout",
     "output_type": "stream",
     "text": [
      "[[ 2.0910919   1.9564992  -0.22390741]\n",
      " [ 0.74427426  0.24750416  0.58864856]]\n",
      "0.23000000417232513\n"
     ]
    }
   ],
   "source": [
    "\"\"\"\n",
    "1. 格式转换\n",
    "当模型的输入的结果需要保存的时候需要转换类型\n",
    "\"\"\"\n",
    "import torch\n",
    "x = torch.randn(2, 3)\n",
    "y = torch.tensor(0.23)\n",
    "print(x.cpu().detach().numpy()) # 多维使用detach()\n",
    "print(y.item()) # 单个使用item() 如loss"
   ]
  },
  {
   "cell_type": "code",
   "execution_count": 30,
   "id": "1002461d-03e8-46eb-b22b-267aed9fc46c",
   "metadata": {},
   "outputs": [
    {
     "name": "stdout",
     "output_type": "stream",
     "text": [
      "tensor([[ 0,  0, -1],\n",
      "        [ 0, -1,  0]])\n"
     ]
    }
   ],
   "source": [
    "\"\"\"\n",
    "2. 输入类型转换\n",
    "\"\"\"\n",
    "x = torch.randn(2, 3)\n",
    "print(x.long())"
   ]
  },
  {
   "cell_type": "code",
   "execution_count": 32,
   "id": "c20f8429-e204-4d84-8c9e-2a57454d9e11",
   "metadata": {},
   "outputs": [],
   "source": [
    "\"\"\"\n",
    "3. 使用GPU\n",
    "\"\"\"\n",
    "gpu_id = 0\n",
    "\n",
    "# device = torch.device('cuda') # 使用GPU\n",
    "device = torch.device('cuda', gpu_id) # 指定哪个卡\n",
    "# os.environ[\"CUDA_VISIBLE_DEVICES\"] = \"0\" # 外部指定"
   ]
  },
  {
   "cell_type": "code",
   "execution_count": 74,
   "id": "a7b6c971-d41d-4d9f-bd88-953fde53d8c8",
   "metadata": {},
   "outputs": [],
   "source": [
    "\"\"\"\n",
    "4. 设置随机种子，复现结果\n",
    "\"\"\"\n",
    "import random\n",
    "import numpy as np\n",
    "def manual_seed(seed: int = 1) -> None:\n",
    "    \"\"\"\n",
    "        设置seed。\n",
    "    \"\"\"\n",
    "    random.seed(seed)\n",
    "    np.random.seed(seed)\n",
    "    torch.manual_seed(seed)\n",
    "    torch.cuda.manual_seed(seed)\n",
    "    torch.cuda.manual_seed_all(seed)\n",
    "    #if torch.cuda.CUDA_ENABLED and use_deterministic_cudnn:\n",
    "    torch.backends.cudnn.deterministic = True\n",
    "    torch.backends.cudnn.benchmark = False\n",
    "    \n",
    "manual_seed(1234)"
   ]
  },
  {
   "cell_type": "code",
   "execution_count": null,
   "id": "e1d9e82f-94ce-4684-8050-a307d22a8ae5",
   "metadata": {},
   "outputs": [],
   "source": [
    "\"\"\"\n",
    "5. 分类lable\n",
    "\"\"\"\n",
    "torch.max(y_pred.data, 1)[1].cpu().detach().numpy()\n",
    "\n",
    "# 二分类过sigmoid取标签\n",
    "torch.sigmoid(output).cpu().detach().numpy()>0.5"
   ]
  },
  {
   "cell_type": "code",
   "execution_count": 120,
   "id": "bbfba424-b636-4ae9-88cb-f4a1db383e48",
   "metadata": {},
   "outputs": [
    {
     "data": {
      "text/plain": [
       "tensor(0.1269)"
      ]
     },
     "execution_count": 120,
     "metadata": {},
     "output_type": "execute_result"
    }
   ],
   "source": [
    "\"\"\"\n",
    "5. 损失\n",
    "\"\"\"\n",
    "import torch.nn as nn\n",
    "criterion = nn.BCEWithLogitsLoss()\n",
    "\n",
    "y_pred = torch.tensor([2., 2])\n",
    "y = torch.tensor([1., 1])\n",
    "criterion(y_pred, y)"
   ]
  },
  {
   "cell_type": "code",
   "execution_count": 127,
   "id": "73a9b0ff-c8d6-4295-82fd-37bbbf1c59ef",
   "metadata": {},
   "outputs": [],
   "source": [
    "\"\"\"\n",
    "6. 指标\n",
    "\"\"\"\n",
    "from sklearn.metrics import precision_recall_fscore_support, accuracy_score\n",
    "y_true = y\n",
    "p, r, f1, _ = precision_recall_fscore_support(y_true, y_pred, average='macro', warn_for=tuple())\n",
    "_, _, acc, _ = precision_recall_fscore_support(y_true, y_pred, average='micro', warn_for=tuple())"
   ]
  },
  {
   "cell_type": "code",
   "execution_count": null,
   "id": "93fad989-f762-4f9d-a0dd-caa742f05afd",
   "metadata": {},
   "outputs": [],
   "source": []
  }
 ],
 "metadata": {
  "kernelspec": {
   "display_name": "PyTorch 1.8",
   "language": "python",
   "name": "torch1.8"
  },
  "language_info": {
   "codemirror_mode": {
    "name": "ipython",
    "version": 3
   },
   "file_extension": ".py",
   "mimetype": "text/x-python",
   "name": "python",
   "nbconvert_exporter": "python",
   "pygments_lexer": "ipython3",
   "version": "3.9.7"
  }
 },
 "nbformat": 4,
 "nbformat_minor": 5
}
